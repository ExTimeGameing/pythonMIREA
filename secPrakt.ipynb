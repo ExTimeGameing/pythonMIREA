{
  "nbformat": 4,
  "nbformat_minor": 0,
  "metadata": {
    "colab": {
      "name": "secprak.ipynb",
      "provenance": [],
      "authorship_tag": "ABX9TyPkZ7ufaRgyTN58QGkblZWf",
      "include_colab_link": true
    },
    "kernelspec": {
      "name": "python3",
      "display_name": "Python 3"
    },
    "language_info": {
      "name": "python"
    }
  },
  "cells": [
    {
      "cell_type": "markdown",
      "metadata": {
        "id": "view-in-github",
        "colab_type": "text"
      },
      "source": [
        "<a href=\"https://colab.research.google.com/github/ExTimeGameing/pythonMIREA/blob/main/secprak.ipynb\" target=\"_parent\"><img src=\"https://colab.research.google.com/assets/colab-badge.svg\" alt=\"Open In Colab\"/></a>"
      ]
    },
    {
      "cell_type": "code",
      "execution_count": 13,
      "metadata": {
        "colab": {
          "base_uri": "https://localhost:8080/",
          "height": 35
        },
        "id": "57ngXR_mh8hz",
        "outputId": "ed597ca9-1afc-479a-cb13-70a472236811"
      },
      "outputs": [
        {
          "output_type": "execute_result",
          "data": {
            "application/vnd.google.colaboratory.intrinsic+json": {
              "type": "string"
            },
            "text/plain": [
              "'much'"
            ]
          },
          "metadata": {},
          "execution_count": 13
        }
      ],
      "source": [
        "# Задача 2\n",
        "i = 0\n",
        "\"codewowmuch\"[-4::]"
      ]
    },
    {
      "cell_type": "code",
      "source": [
        "# Задача 5\n",
        "import random\n",
        "\n",
        "dataBase = [\n",
        "    (\"Коллеги,\",\t          \"парадигма цифровой экономики\",\t                \"открывает новые возможности для\",\t\"дальнейшего углубления\",\t          \"знаний и компетенций.\"),\n",
        "    (\"В то же время,\",      \"контекст цифровой трансформации\",\t            \"выдвигает новые требования\",\t      \"бюджетного финансирования\",\t      \"непроверенных гипотез.\"),\n",
        "    (\"Однако,\",\t            \"диджитализация бизнес-процессов\",\t            \"несёт в себе риски\",\t              \"синергетического эффекта\",\t        \"волатильных активов.\"),\n",
        "    (\"Тем не менее,\",\t      \"прагматичный подход к цифровым платформам\",\t  \"расширяет горизонты\",\t            \"компрометации конфиденциальных\",\t  \"опасных экспериментов.\"),\n",
        "    (\"Следовательно,\",\t    \"совокупность сквозных технологий\",\t            \"заставляет искать варианты\",\t      \"универсальной коммодитизации\",\t    \"государственно-частных партнёрств.\"),\n",
        "    (\"Соответственно,\",\t    \"программа прорывных исследований\",\t            \"не оставляет шанса для\",\t          \"несанкционированной кастомизации\",\t\"цифровых следов граждан.\"),\n",
        "    (\"Вместе с тем,\",\t      \"ускорение блокчейн-транзакций\",\t              \"повышает вероятность\",\t            \"нормативного регулирования\",\t      \"нежелательных последствий.\"),\n",
        "    (\"С другой стороны,\",\t  \"экспоненциальный рост Big Data\",\t              \"обостряет проблему\",\t              \"практического применения\",\t        \"внезапных открытий.\")\n",
        "]\n",
        "\n",
        "num = int(input())\n",
        "\n",
        "for i in range (num):\n",
        "    print(dataBase[random.randint(0,4)][0], dataBase[random.randint(0,4)][1], dataBase[random.randint(0,4)][2], dataBase[random.randint(0,4)][3], dataBase[random.randint(0,4)][4], end = \" \")\n",
        "    print(dataBase[random.randint(0, 4)][0], dataBase[random.randint(0, 4)][1], dataBase[random.randint(0, 4)][2], dataBase[random.randint(0, 4)][3], dataBase[random.randint(0, 4)][4], end = \" \")\n",
        "    print(dataBase[random.randint(0, 4)][0], dataBase[random.randint(0, 4)][1], dataBase[random.randint(0, 4)][2],dataBase[random.randint(0, 4)][3], dataBase[random.randint(0, 4)][4], end = \"\\n\\n\")"
      ],
      "metadata": {
        "colab": {
          "base_uri": "https://localhost:8080/"
        },
        "id": "pKFooR5skatx",
        "outputId": "335ad603-f4b4-4871-c295-15ec1c9eb027"
      },
      "execution_count": 16,
      "outputs": [
        {
          "output_type": "stream",
          "name": "stdout",
          "text": [
            "5\n",
            "Тем не менее, диджитализация бизнес-процессов расширяет горизонты бюджетного финансирования знаний и компетенций. Однако, парадигма цифровой экономики несёт в себе риски бюджетного финансирования знаний и компетенций. Коллеги, совокупность сквозных технологий открывает новые возможности для синергетического эффекта волатильных активов.\n",
            "\n",
            "Тем не менее, прагматичный подход к цифровым платформам расширяет горизонты бюджетного финансирования опасных экспериментов. Коллеги, диджитализация бизнес-процессов расширяет горизонты бюджетного финансирования опасных экспериментов. Тем не менее, диджитализация бизнес-процессов расширяет горизонты универсальной коммодитизации опасных экспериментов.\n",
            "\n",
            "Коллеги, контекст цифровой трансформации заставляет искать варианты компрометации конфиденциальных волатильных активов. Тем не менее, прагматичный подход к цифровым платформам несёт в себе риски дальнейшего углубления опасных экспериментов. Следовательно, парадигма цифровой экономики открывает новые возможности для дальнейшего углубления волатильных активов.\n",
            "\n",
            "Следовательно, диджитализация бизнес-процессов расширяет горизонты синергетического эффекта государственно-частных партнёрств. Следовательно, диджитализация бизнес-процессов выдвигает новые требования дальнейшего углубления волатильных активов. Следовательно, парадигма цифровой экономики открывает новые возможности для дальнейшего углубления непроверенных гипотез.\n",
            "\n",
            "Тем не менее, диджитализация бизнес-процессов расширяет горизонты дальнейшего углубления государственно-частных партнёрств. Тем не менее, контекст цифровой трансформации открывает новые возможности для бюджетного финансирования государственно-частных партнёрств. Однако, прагматичный подход к цифровым платформам открывает новые возможности для универсальной коммодитизации непроверенных гипотез.\n",
            "\n"
          ]
        }
      ]
    },
    {
      "cell_type": "code",
      "source": [
        "# Задача 8\n",
        "import random\n",
        "\n",
        "\n",
        "namePrefix = [\"А\", \"Айне\", \"Арна\", \"Фионн\", \"Илле\",\"Лианн\", \"Рис\"]\n",
        "namePostfix = [\"долл\", \"ори\", \"аразу\", \"ссо\", \"гейт\"]\n",
        "surnamePrefix = [\"Нум\", \"Онде\", \"Чор\", \"Вонд\", \"Сенв\"]\n",
        "surnamePostfix = [\"ад\", \"дейх\", \"рок\", \"эйсайд\", \"зуст\"]\n",
        "intitial = [\"А.\", \"Б.\", \"Д.\", \"С\", \"Ч.\"]\n",
        "\n",
        "n = int(input())\n",
        "\n",
        "for i in range (n):\n",
        "    print(random.choice(namePrefix) + random.choice(namePostfix),random.choice(intitial), random.choice(surnamePrefix) + random.choice(surnamePostfix))"
      ],
      "metadata": {
        "colab": {
          "base_uri": "https://localhost:8080/"
        },
        "id": "KKOb69HFnyq0",
        "outputId": "c5bfe10b-c274-481d-fa2c-6e7544e05a31"
      },
      "execution_count": 20,
      "outputs": [
        {
          "output_type": "stream",
          "name": "stdout",
          "text": [
            "10\n",
            "Иллеаразу Б. Ондеад\n",
            "Иллегейт А. Вонддейх\n",
            "Илледолл Ч. Чорэйсайд\n",
            "Арнааразу Б. Вондрок\n",
            "Арнааразу А. Вондзуст\n",
            "Айнессо Д. Сенвэйсайд\n",
            "Арнагейт А. Вондрок\n",
            "Ассо Б. Чоррок\n",
            "Иллегейт Ч. Чордейх\n",
            "Фионнори С Ондедейх\n"
          ]
        }
      ]
    },
    {
      "cell_type": "code",
      "source": [
        "import os\n",
        "from os.path import join, getsize\n",
        "print (\"digraph G {\")\n",
        "for root, dirs, files in os.walk('C:\\\\Users\\\\mi\\\\Pictures'):\n",
        "    data = root\n",
        "    str_tr = ''\n",
        "    for item in reversed(data):\n",
        "        if (item != \"\\\\\"):\n",
        "            str_tr += item\n",
        "        else:\n",
        "            break\n",
        "    p = root.split(\"\\\\\")\n",
        "    print(p[len(p) - 2] + \"->\" + str_tr[::-1])\n",
        "print(\"}\")"
      ],
      "metadata": {
        "colab": {
          "base_uri": "https://localhost:8080/"
        },
        "id": "cWPsWnoM5qmX",
        "outputId": "a15b94aa-1f4d-44d7-9afa-fb808f6152ae"
      },
      "execution_count": 19,
      "outputs": [
        {
          "output_type": "stream",
          "name": "stdout",
          "text": [
            "digraph G {\n",
            "}\n"
          ]
        }
      ]
    }
  ]
}

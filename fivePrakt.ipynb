{
  "nbformat": 4,
  "nbformat_minor": 0,
  "metadata": {
    "colab": {
      "name": "fivePrakt",
      "provenance": [],
      "collapsed_sections": [],
      "authorship_tag": "ABX9TyNjwVisMreoWhaWDLcTGGe9",
      "include_colab_link": true
    },
    "kernelspec": {
      "name": "python3",
      "display_name": "Python 3"
    },
    "language_info": {
      "name": "python"
    }
  },
  "cells": [
    {
      "cell_type": "markdown",
      "metadata": {
        "id": "view-in-github",
        "colab_type": "text"
      },
      "source": [
        "<a href=\"https://colab.research.google.com/github/ExTimeGameing/pythonMIREA/blob/main/fivePrakt.ipynb\" target=\"_parent\"><img src=\"https://colab.research.google.com/assets/colab-badge.svg\" alt=\"Open In Colab\"/></a>"
      ]
    },
    {
      "cell_type": "code",
      "execution_count": null,
      "metadata": {
        "id": "KvaEhtpCRgUh"
      },
      "outputs": [],
      "source": [
        "#Задача1\n",
        "import doctest\n",
        "\n",
        "\n",
        "def add(a, b):\n",
        "    \"\"\"\n",
        "    Даны два числа а и б, вернуть их сумму.\n",
        "    :param a: int\n",
        "    :param b: int\n",
        "    :return: int\n",
        "\n",
        "    >>> add(2, 3)\n",
        "    5\n",
        "\n",
        "    >>> add(3, 3)\n",
        "    10\n",
        "\n",
        "    >>> add(2, \"С\")\n",
        "    \"\"\"\n",
        "    try:\n",
        "        a = int(a)\n",
        "        b = int(b)\n",
        "        return a + b\n",
        "    except:\n",
        "        raise NameError(\"НЕ ЧИСЛО\")\n",
        "\n",
        "import doctest\n",
        "doctest.testmod()\n"
      ]
    },
    {
      "cell_type": "code",
      "source": [
        "#Задача3\n",
        "# pip install pytest\n",
        "# pip install coverage\n",
        "# coverage run -m pytest main.py\n",
        "# coverage report -m\n",
        "\n",
        "def incr(x):\n",
        "    if True == True:\n",
        "        x += 1\n",
        "    else:\n",
        "        print(\"Пасхалка\")\n",
        "    return x\n",
        "\n",
        "\n",
        "def test_incr():\n",
        "    assert incr(0) == 1\n",
        "    # assert incr(10) == 10 # Для покрытия на все 100%\n"
      ],
      "metadata": {
        "id": "1MT5-sk1f_Hf"
      },
      "execution_count": null,
      "outputs": []
    }
  ]
}
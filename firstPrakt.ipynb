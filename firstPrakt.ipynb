{
  "nbformat": 4,
  "nbformat_minor": 0,
  "metadata": {
    "colab": {
      "name": "firstPrakt.ipynb",
      "provenance": [],
      "collapsed_sections": [],
      "authorship_tag": "ABX9TyPQDCdsQeU8Fu0ar/5rZ5zJ",
      "include_colab_link": true
    },
    "kernelspec": {
      "name": "python3",
      "display_name": "Python 3"
    },
    "language_info": {
      "name": "python"
    }
  },
  "cells": [
    {
      "cell_type": "markdown",
      "metadata": {
        "id": "view-in-github",
        "colab_type": "text"
      },
      "source": [
        "<a href=\"https://colab.research.google.com/github/ExTimeGameing/pythonMIREA/blob/main/firstPrakt.ipynb\" target=\"_parent\"><img src=\"https://colab.research.google.com/assets/colab-badge.svg\" alt=\"Open In Colab\"/></a>"
      ]
    },
    {
      "cell_type": "code",
      "execution_count": 1,
      "metadata": {
        "colab": {
          "base_uri": "https://localhost:8080/"
        },
        "id": "dT2vW09m_-Ic",
        "outputId": "877bf0b8-5a24-4497-daa8-98ced007463c"
      },
      "outputs": [
        {
          "output_type": "stream",
          "name": "stdout",
          "text": [
            "10\n",
            "Умножение числа 10 на 12 равно 120\n",
            "10\n",
            "Умножение числа 10 на 16 равно 160\n",
            "10\n",
            "Умножение числа 10 на 15 равно 150\n",
            "10\n",
            "Умножение числа 10 на 29 равно 290\n"
          ]
        }
      ],
      "source": [
        "# Задача №4\n",
        "x, y = 0, 0\n",
        "# Умножение на 12: 4 сложения\n",
        "x = int(input())\n",
        "y = x\n",
        "print('Умножение числа', x, 'на 12 равно', end = ' ')\n",
        "y += x # y = 2x0\n",
        "y += y # y = 4x0\n",
        "y = y + y + y # y = 12x0\n",
        "print(y)\n",
        "# Умножение на 16: 4 сложения\n",
        "x = int(input())\n",
        "y = x\n",
        "print('Умножение числа', x, 'на 16 равно', end = ' ')\n",
        "y += y # y = 2x0\n",
        "y += y # y = 4x0\n",
        "y += y # y = 8x0\n",
        "y += y # y = 16x0\n",
        "print(y)\n",
        "# Умножение на 15: 3 сложения и 2 вычитания\n",
        "x = int(input())\n",
        "print('Умножение числа', x, 'на 15 равно', end = ' ')\n",
        "y = x\n",
        "y += x # y = 2x0\n",
        "y += y # y = 4x0\n",
        "y += y # y = 8x0\n",
        "x -= y # y = 8x0, x = -7x0\n",
        "y -= x # y = 15x0\n",
        "print(y)\n",
        "# Умножение на 29: 6 сложений и 1 вычитание\n",
        "x = int(input())\n",
        "y = x\n",
        "print('Умножение числа', x, 'на 29 равно', end = ' ')\n",
        "y += x # y = 2x0\n",
        "x = y + x # x = 3x0\n",
        "y += y # y = 4x0\n",
        "y += y # y = 8x0\n",
        "y += y # y = 16x0\n",
        "y += y # y = 32x0\n",
        "y -= x # y = 29x0\n",
        "print(y)"
      ]
    },
    {
      "cell_type": "code",
      "source": [
        "#Задча №10\n",
        "def fast_mult(num1, num2):\n",
        "    sum = 0\n",
        "    while num1 > 0:\n",
        "        if (num1 % 2 != 0):\n",
        "          sum += num2\n",
        "        num1 = num1 >> 1\n",
        "        num2 = num2 << 1\n",
        "    return sum\n",
        "\n",
        "def fast_pow(num, degree):\n",
        "  sum = num\n",
        "  for i in range(1, degree):\n",
        "    sum = fast_mult(sum, num)\n",
        "  return sum\n",
        "\n",
        "print('Пример умножения\\n', fast_mult(int(input()), int(input())))\n",
        "print('Пример возведения в степень\\n', fast_pow(int(input()), int(input())))"
      ],
      "metadata": {
        "colab": {
          "base_uri": "https://localhost:8080/"
        },
        "id": "0WpVIlCxAD7_",
        "outputId": "5b06980a-8f06-45ea-b811-319f9b790e9a"
      },
      "execution_count": 14,
      "outputs": [
        {
          "output_type": "stream",
          "name": "stdout",
          "text": [
            "5\n",
            "3\n",
            "Пример возведения в степень\n",
            " 125\n"
          ]
        }
      ]
    },
    {
      "cell_type": "code",
      "source": [
        "#Задача №11\n",
        "def fast_mult_gen(num1):\n",
        "    sum = 0\n",
        "    x = 1\n",
        "    print ('sum = 0')\n",
        "    while num1 > 0:\n",
        "        if (num1 % 2 != 0):\n",
        "          print('sum += x # x0 *', x)\n",
        "        num1 = num1 >> 1\n",
        "        x *= 2\n",
        "        print('x += x')\n",
        "\n",
        "a = int(input())\n",
        "fast_mult_gen(a)\n"
      ],
      "metadata": {
        "colab": {
          "base_uri": "https://localhost:8080/"
        },
        "id": "MSoIHI8lEKfk",
        "outputId": "1c911a2a-e6f3-4720-a819-bd9f5177ff4d"
      },
      "execution_count": 29,
      "outputs": [
        {
          "output_type": "stream",
          "name": "stdout",
          "text": [
            "15\n",
            "sum = 0\n",
            "sum += x # x0 * 1\n",
            "x += x\n",
            "sum += x # x0 * 2\n",
            "x += x\n",
            "sum += x # x0 * 4\n",
            "x += x\n",
            "sum += x # x0 * 8\n",
            "x += x\n",
            "15\n"
          ]
        }
      ]
    }
  ]
}
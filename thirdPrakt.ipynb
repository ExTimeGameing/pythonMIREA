{
  "nbformat": 4,
  "nbformat_minor": 0,
  "metadata": {
    "colab": {
      "name": "thirdPrakt.ipynb",
      "provenance": [],
      "collapsed_sections": [],
      "mount_file_id": "1JebRX4rDowfDFQC3-dwuFdBLX1CqgPlC",
      "authorship_tag": "ABX9TyNO2CJjfwOlUOjkNL5e1s+B",
      "include_colab_link": true
    },
    "kernelspec": {
      "name": "python3",
      "display_name": "Python 3"
    },
    "language_info": {
      "name": "python"
    }
  },
  "cells": [
    {
      "cell_type": "markdown",
      "metadata": {
        "id": "view-in-github",
        "colab_type": "text"
      },
      "source": [
        "<a href=\"https://colab.research.google.com/github/ExTimeGameing/pythonMIREA/blob/main/thirdPrakt.ipynb\" target=\"_parent\"><img src=\"https://colab.research.google.com/assets/colab-badge.svg\" alt=\"Open In Colab\"/></a>"
      ]
    },
    {
      "cell_type": "code",
      "execution_count": null,
      "metadata": {
        "id": "hQ9g9sIFlQd1"
      },
      "outputs": [],
      "source": [
        "# ЗАДАЧИ: 3-5, 8 + 2-6 + 11 = 2-6, 8, 11\n"
      ]
    },
    {
      "cell_type": "code",
      "source": [
        "#Задача №2 Если бы, при каждом import модуль загружался заново, то объекты этого модуля имели разное место в памяти\n",
        "import sys as s1\n",
        "import sys as s2\n",
        "\n",
        "s1 == s2"
      ],
      "metadata": {
        "colab": {
          "base_uri": "https://localhost:8080/"
        },
        "id": "ldyEQ0UNuNLL",
        "outputId": "41ce06e6-4f4d-4ad9-a083-d6d8518198c1"
      },
      "execution_count": null,
      "outputs": [
        {
          "output_type": "execute_result",
          "data": {
            "text/plain": [
              "True"
            ]
          },
          "metadata": {},
          "execution_count": 1
        }
      ]
    },
    {
      "cell_type": "code",
      "source": [
        "#Задача №3\n",
        "#Создаем три файла. Первый \"main\"\n",
        "a = 10 \n",
        "b = 20\n",
        "#Второй \"change\"\n",
        "import main\n",
        "\n",
        "main.a = 15\n",
        "main.b = 25\n",
        "#Третий \"test\"\n",
        "import main\n",
        "import change\n",
        "\n",
        "print(main.a)\n",
        "print(main.b)"
      ],
      "metadata": {
        "id": "XcaDy0yrvAU1"
      },
      "execution_count": null,
      "outputs": []
    },
    {
      "cell_type": "code",
      "source": [
        "#Задача №4\n",
        "#Создаем два файла. Первый \"main\"\n",
        "a = 10\n",
        "b = 20\n",
        "__all__ = ['a']\n",
        "#Второй \"test\"\n",
        "from main import *\n",
        "\n",
        "print(a)\n",
        "print(b) #Получаем ошибку, ибо b ND"
      ],
      "metadata": {
        "id": "6h1H_Grhw7BH"
      },
      "execution_count": null,
      "outputs": []
    },
    {
      "cell_type": "code",
      "source": [
        "#Задача №5\n",
        "https://packaging.python.org/en/latest/tutorials/packaging-projects/"
      ],
      "metadata": {
        "id": "xYeBf61Xy-ua"
      },
      "execution_count": null,
      "outputs": []
    },
    {
      "cell_type": "code",
      "source": [
        "#Задча №6\n",
        "import logging\n",
        "\n",
        "\n",
        "def devide(a = 10):\n",
        "    return 10 / a\n",
        "\n",
        "\n",
        "def test_func(func, a):\n",
        "    try:\n",
        "        print(func(a))\n",
        "    except ZeroDivisionError:\n",
        "        logging.basicConfig(filename=\"INFOLOG.log\", level=logging.INFO)\n",
        "        logging.info(\"Ошибка, деление на 0\")\n",
        "\n",
        "a = 0\n",
        "test_func(devide, a)\n"
      ],
      "metadata": {
        "id": "XfYaQfuhEp9i"
      },
      "execution_count": null,
      "outputs": []
    },
    {
      "cell_type": "code",
      "source": [
        "#Задача 8, способ 1\n",
        "import pandas as pd\n",
        "import matplotlib.pyplot as plt\n",
        "GAMES_TABLE = pd.read_csv('https://raw.githubusercontent.com/Newbilius/Old-Games_DOS_Game_Gauntlet/master/GAMES.csv', delimiter = \";\",names=['Name', 'Genre', 'Link', 'Year'])\n",
        "#figure = plt.figure(figsize=(15, 10), dpi = 80)\n",
        "#ax = figure.add_subplot(1,1,1)\n",
        "#ax.plot(GAMES_TABLE['Genre'], GAMES_TABLE['Year'])\n",
        "GAMES_TABLE.groupby(['Year', 'Genre']).count()['Name'].plot(kind = 'pie',  figsize=(200, 200), fontsize = 50)\n"
      ],
      "metadata": {
        "id": "ltawM5VPf0XO"
      },
      "execution_count": null,
      "outputs": []
    },
    {
      "cell_type": "code",
      "source": [
        "#Задача 8, способ 2\n",
        "import pandas as pd\n",
        "import matplotlib.pyplot as plt\n",
        "import numpy as np\n",
        "\n",
        "\n",
        "df = pd.read_csv('https://raw.githubusercontent.com/Newbilius/Old-Games_DOS_Game_Gauntlet/master/GAMES.csv', delimiter = \";\",names=['Name', 'Genre', 'Link', 'Year'])\n",
        "\n",
        "# Prepare data\n",
        "x_var = 'Year'\n",
        "groupby_var = 'Genre'\n",
        "df_agg = df.loc[:, [x_var, groupby_var]].groupby(groupby_var)\n",
        "vals = [df[x_var].values.tolist() for i, df in df_agg]\n",
        "\n",
        "# Draw\n",
        "plt.figure(figsize=(30,30), dpi= 80)\n",
        "colors = [plt.cm.Spectral(i/float(len(vals)-1)) for i in range(len(vals))]\n",
        "n, bins, patches = plt.hist(vals, 30, stacked=True, density=False, color=colors[:len(vals)])\n",
        "# Decoration\n",
        "plt.legend({group:col for group, col in zip(np.unique(df[groupby_var]).tolist(), colors[:len(vals)])})\n",
        "plt.title(f\"Stacked Histogram of ${x_var}$ colored by ${groupby_var}$\", fontsize=16)\n",
        "plt.xlabel(x_var)\n",
        "plt.ylabel(\"Frequency\")\n",
        "plt.ylim(0, 25)\n",
        "plt.xticks(ticks=bins[::3], labels=[round(b,1) for b in bins[::3]])\n",
        "plt.show()"
      ],
      "metadata": {
        "id": "xTf4wvJuoL46"
      },
      "execution_count": null,
      "outputs": []
    },
    {
      "cell_type": "code",
      "source": [
        "#Задача 11\n",
        "import random\n",
        "import matplotlib.pyplot as plt\n",
        "\n",
        "seed1 = 23114\n",
        "seed2 = 584\n",
        "seed3 = 46931\n",
        "x = [0] * 256\n",
        "y = [0] * 256\n",
        "random.seed(seed3)\n",
        "for i in range (0, 255):\n",
        "  seed1 = seed1 / 8 + random.randint(100, 1000000)\n",
        "  seed2 = seed2 / 8 + random.randint(100, 1000000)\n",
        "  x[i] = int(seed1)\n",
        "  y[i] = int(seed2)\n",
        "\n",
        "figure = plt.figure(figsize=(15, 15), dpi = 80)\n",
        "ax = figure.add_subplot(1,1,1)\n",
        "ax.set_facecolor('xkcd:dark blue')\n",
        "print(x, y, sep ='\\n')\n",
        "ax.scatter(x, y, color = 'w')"
      ],
      "metadata": {
        "colab": {
          "base_uri": "https://localhost:8080/",
          "height": 1000
        },
        "id": "Wt4qEZafpntG",
        "outputId": "a9d3a658-e978-490e-e961-d198c21c8f49"
      },
      "execution_count": 153,
      "outputs": [
        {
          "output_type": "stream",
          "name": "stdout",
          "text": [
            "[396714, 61849, 829024, 947017, 972821, 141653, 688850, 436146, 739897, 512101, 163930, 838055, 148935, 777082, 673104, 469215, 505827, 167581, 149927, 755217, 218707, 788567, 260015, 82706, 930904, 868045, 214950, 462407, 574128, 887618, 290038, 876437, 354620, 57004, 431112, 406958, 768794, 323391, 394117, 470999, 1037851, 401153, 442787, 180332, 235559, 941864, 801157, 1099524, 846271, 186258, 81038, 721626, 343401, 935144, 588099, 716943, 721558, 1075539, 834397, 620662, 1008633, 255349, 982611, 356854, 372238, 181619, 574690, 469112, 592495, 1046515, 732433, 121066, 993415, 799976, 382391, 251161, 445176, 716339, 798658, 300701, 199897, 818522, 876367, 179875, 972880, 142031, 424353, 441163, 1048100, 332943, 496573, 972963, 907548, 1020849, 723102, 1060194, 372730, 544964, 470734, 870851, 388991, 618215, 445233, 662773, 853037, 396617, 325232, 239141, 774068, 153830, 756219, 831582, 673003, 860413, 910402, 964535, 550764, 697730, 245045, 352043, 129523, 761658, 551812, 124129, 98899, 127174, 145464, 1013386, 576984, 482445, 750021, 644984, 512661, 615445, 726642, 699832, 273679, 117671, 138118, 777700, 924687, 636455, 377359, 393486, 628757, 263810, 164039, 713286, 865454, 751387, 610723, 409468, 608738, 78973, 96688, 199666, 301605, 190310, 159751, 382781, 686509, 388067, 138237, 306445, 401263, 646462, 210051, 240211, 594007, 560875, 569538, 259531, 292010, 608766, 864594, 919205, 607740, 919770, 389726, 916663, 443257, 75012, 874608, 151203, 326015, 1014878, 1003497, 339205, 970955, 985682, 888239, 590659, 703135, 704958, 987682, 1031312, 900452, 629321, 101416, 822773, 890950, 778394, 500833, 460509, 485039, 448036, 217969, 689814, 126826, 42365, 942833, 675410, 751335, 931427, 493525, 955254, 545429, 182493, 891245, 258891, 76141, 565019, 690062, 922984, 220603, 553874, 475620, 794965, 1074851, 412182, 904632, 417244, 470810, 161573, 956994, 132916, 708111, 654241, 505709, 1039263, 163331, 228838, 863524, 263365, 40073, 470238, 1022285, 491361, 641513, 667089, 976970, 868195, 723440, 322964, 153460, 0]\n",
            "[348746, 538820, 160693, 247826, 589507, 849844, 319768, 105762, 24230, 790698, 862862, 974030, 901066, 459969, 892066, 527264, 192653, 164173, 108215, 704629, 561250, 710667, 822702, 1016879, 749550, 575664, 1067763, 426894, 357995, 706797, 944905, 1071836, 822750, 924933, 163456, 867376, 165409, 177441, 466175, 693997, 657908, 302949, 201623, 858476, 636874, 778024, 572070, 947016, 179178, 693307, 891392, 684746, 144152, 55644, 568246, 763334, 497967, 183170, 631200, 999939, 860281, 988791, 1038034, 701057, 662510, 925950, 676460, 820117, 928763, 481199, 150753, 141581, 101981, 505273, 352869, 549168, 445840, 538525, 236149, 1026815, 676161, 994060, 957209, 849069, 150516, 325083, 611455, 462172, 630048, 1005597, 215188, 1019454, 497528, 827410, 266718, 154824, 123251, 555992, 501323, 414633, 271751, 144092, 524604, 497857, 648502, 149409, 752628, 469779, 442675, 991865, 952638, 802651, 548875, 457308, 417219, 533304, 1008292, 454092, 262313, 799099, 309867, 327335, 906333, 763147, 1063960, 265833, 394904, 605643, 749657, 966569, 994300, 320179, 595741, 190244, 488873, 596703, 452943, 737534, 772708, 994813, 735024, 881086, 804561, 919234, 290212, 986225, 616875, 601855, 146570, 687976, 785538, 107904, 309841, 1015768, 1024539, 1006643, 1051345, 803448, 730371, 633001, 1055502, 629106, 1008725, 761868, 211171, 662998, 340009, 902728, 766743, 197327, 47636, 707928, 976555, 390160, 753607, 401516, 465397, 208826, 893235, 658596, 913338, 456953, 668442, 775115, 574816, 624008, 249938, 447176, 104165, 241274, 818588, 541271, 1058225, 795390, 827470, 386463, 366492, 416261, 97268, 162735, 383175, 459740, 928082, 1104336, 379125, 835519, 939312, 594002, 263713, 628602, 735263, 208671, 1000505, 1110365, 907277, 310007, 40153, 516026, 652130, 409011, 295202, 88186, 433848, 182467, 788436, 783086, 894159, 1012584, 928898, 931996, 256856, 209693, 373876, 551111, 602000, 296801, 216834, 402889, 175990, 485527, 238606, 1019721, 929034, 596035, 99843, 366602, 312229, 501333, 746702, 974650, 740078, 1078169, 388117, 50620, 505306, 0]\n"
          ]
        },
        {
          "output_type": "execute_result",
          "data": {
            "text/plain": [
              "<matplotlib.collections.PathCollection at 0x7f8c687b8e50>"
            ]
          },
          "metadata": {},
          "execution_count": 153
        },
        {
          "output_type": "display_data",
          "data": {
            "text/plain": [
              "<Figure size 1200x1200 with 1 Axes>"
            ],
            "image/png": "[encoded data removed]"
          },
          "metadata": {
            "needs_background": "light"
          }
        }
      ]
    },
    {
      "cell_type": "code",
      "source": [
        ""
      ],
      "metadata": {
        "id": "pVhhsWTFzgqn"
      },
      "execution_count": null,
      "outputs": []
    }
  ]
}
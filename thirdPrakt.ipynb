{
  "nbformat": 4,
  "nbformat_minor": 0,
  "metadata": {
    "colab": {
      "name": "thirdPrakt.ipynb",
      "provenance": [],
      "authorship_tag": "ABX9TyNdRXXaVa5LYWs3vZG0S5Rq",
      "include_colab_link": true
    },
    "kernelspec": {
      "name": "python3",
      "display_name": "Python 3"
    },
    "language_info": {
      "name": "python"
    }
  },
  "cells": [
    {
      "cell_type": "markdown",
      "metadata": {
        "id": "view-in-github",
        "colab_type": "text"
      },
      "source": [
        "<a href=\"https://colab.research.google.com/github/ExTimeGameing/pythonMIREA/blob/main/thirdPrakt.ipynb\" target=\"_parent\"><img src=\"https://colab.research.google.com/assets/colab-badge.svg\" alt=\"Open In Colab\"/></a>"
      ]
    },
    {
      "cell_type": "code",
      "execution_count": null,
      "metadata": {
        "id": "hQ9g9sIFlQd1"
      },
      "outputs": [],
      "source": [
        "# ЗАДАЧИ: 3-5, 8 + 2-6 + 11 = 2-6, 8, 11\n"
      ]
    },
    {
      "cell_type": "code",
      "source": [
        "#Задача №2 (Е) Если бы, при каждом import модуль загружался заново, то объекты этого модуля имели разное место в памяти\n",
        "import sys as s1\n",
        "import sys as s2\n",
        "a = 10\n",
        "\n",
        "s1 == s2"
      ],
      "metadata": {
        "colab": {
          "base_uri": "https://localhost:8080/"
        },
        "id": "ldyEQ0UNuNLL",
        "outputId": "fd082fb8-5259-413e-9ace-1cdd729a33c3"
      },
      "execution_count": 16,
      "outputs": [
        {
          "output_type": "stream",
          "name": "stdout",
          "text": [
            "True\n",
            "False\n"
          ]
        }
      ]
    },
    {
      "cell_type": "code",
      "source": [
        "#Задача №3 (Е, П)\n",
        "#Создаем три файла. Первый \"main\"\n",
        "a = 10 \n",
        "b = 20\n",
        "#Второй \"change\"\n",
        "import main\n",
        "\n",
        "main.a = 15\n",
        "main.b = 25\n",
        "#Третий \"test\"\n",
        "import main\n",
        "import change\n",
        "\n",
        "print(main.a)\n",
        "print(main.b)"
      ],
      "metadata": {
        "id": "XcaDy0yrvAU1"
      },
      "execution_count": 25,
      "outputs": []
    },
    {
      "cell_type": "code",
      "source": [
        "#Задача №4 (Е, П)\n",
        "#Создаем два файла. Первый \"main\"\n",
        "a = 10\n",
        "b = 20\n",
        "__all__ = ['a']\n",
        "#Второй \"test\"\n",
        "from main import *\n",
        "\n",
        "print(a)\n",
        "print(b) #Получаем ошибку, ибо b ND"
      ],
      "metadata": {
        "id": "6h1H_Grhw7BH"
      },
      "execution_count": 27,
      "outputs": []
    },
    {
      "cell_type": "code",
      "source": [
        "#Задача №5 (Е, П)\n",
        "https://packaging.python.org/en/latest/tutorials/packaging-projects/"
      ],
      "metadata": {
        "id": "xYeBf61Xy-ua"
      },
      "execution_count": 28,
      "outputs": []
    },
    {
      "cell_type": "code",
      "source": [
        "#Задча №6 (Е)\n",
        "import logging\n",
        "\n",
        "\n",
        "def devide(a = 10):\n",
        "    return 10 / a\n",
        "\n",
        "\n",
        "def test_func(func, a):\n",
        "    try:\n",
        "        print(func(a))\n",
        "    except ZeroDivisionError:\n",
        "        logging.basicConfig(filename=\"INFOLOG.log\", level=logging.INFO)\n",
        "        logging.info(\"Ошибка, деление на 0\")\n",
        "\n",
        "a = 0\n",
        "test_func(devide, a)\n"
      ],
      "metadata": {
        "id": "XfYaQfuhEp9i"
      },
      "execution_count": null,
      "outputs": []
    }
  ]
}
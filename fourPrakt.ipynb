{
  "nbformat": 4,
  "nbformat_minor": 0,
  "metadata": {
    "colab": {
      "name": "fourPrakt.ipynb",
      "provenance": [],
      "collapsed_sections": [],
      "authorship_tag": "ABX9TyPrBqHPz32KymVuwCXseZL/",
      "include_colab_link": true
    },
    "kernelspec": {
      "name": "python3",
      "display_name": "Python 3"
    },
    "language_info": {
      "name": "python"
    }
  },
  "cells": [
    {
      "cell_type": "markdown",
      "metadata": {
        "id": "view-in-github",
        "colab_type": "text"
      },
      "source": [
        "<a href=\"https://colab.research.google.com/github/ExTimeGameing/pythonMIREA/blob/main/fourPrakt.ipynb\" target=\"_parent\"><img src=\"https://colab.research.google.com/assets/colab-badge.svg\" alt=\"Open In Colab\"/></a>"
      ]
    },
    {
      "cell_type": "markdown",
      "source": [
        "Задача 2\n",
        "\n",
        "Использование встроенных функций.\n",
        "\n",
        "Напишите код, который выведет на экране все переменные объекта произвольного пользовательского класса.\n",
        "Напишите код, который по имени метода, заданному строкой, вызовет этот метод в объекте некоторого пользовательского класс"
      ],
      "metadata": {
        "id": "E1KFykcb2IgL"
      }
    },
    {
      "cell_type": "code",
      "execution_count": 8,
      "metadata": {
        "colab": {
          "base_uri": "https://localhost:8080/"
        },
        "id": "H8QuEysktz_9",
        "outputId": "0071fdbc-d308-4eb1-ca19-dc01785b4484"
      },
      "outputs": [
        {
          "output_type": "stream",
          "name": "stdout",
          "text": [
            "{'__module__': '__main__', '__qualname__': 'Cat', 'x': 5, 'y': 6, 'text': {...}, 'sum': <function Cat.sum at 0x7f83373b6ef0>}\n",
            "5\n"
          ]
        }
      ],
      "source": [
        "#Задача № 2\n",
        "class Cat:\n",
        "    x = 5\n",
        "    y = 6\n",
        "    text = locals()\n",
        "    def sum(a, b):\n",
        "        print(a+b)\n",
        "        \n",
        "\n",
        "\n",
        "print(Cat.text) # vars(Cat)\n",
        "method = getattr(Cat, 'sum')\n",
        "method(2, 3)\n"
      ]
    },
    {
      "cell_type": "markdown",
      "source": [
        "Задача 5\n",
        "\n",
        "Язык HTML-тегов с помощью менеджера контекста."
      ],
      "metadata": {
        "id": "cqvx9NCl2NHO"
      }
    },
    {
      "cell_type": "code",
      "source": [
        "#Задча №5\n",
        "code = []\n",
        "class printBody:\n",
        "    def __enter__(self):\n",
        "        code.append('<body>')\n",
        "\n",
        "    def __exit__(self, exc_type, exc_val, exc_tb):\n",
        "        code.append('</body>')\n",
        "\n",
        "\n",
        "class printDiv:\n",
        "    def __enter__(self):\n",
        "        code.append('<div>')\n",
        "\n",
        "    def __exit__(self, exc_type, exc_val, exc_tb):\n",
        "        code.append('</div>')\n",
        "\n",
        "\n",
        "class printP:\n",
        "    def __init__(self, str):\n",
        "        code.append('<p>' + str + '</p>')\n",
        "\n",
        "\n",
        "class HTML:\n",
        "    htmlCode = ''\n",
        "\n",
        "    def body(self):\n",
        "        return printBody()\n",
        "\n",
        "\n",
        "    def div(self):\n",
        "        return printDiv()\n",
        "\n",
        "\n",
        "    def p(self, str):\n",
        "        return printP(str)\n",
        "\n",
        "    def get_code(self):\n",
        "        for item in code:\n",
        "            self.htmlCode += item\n",
        "            self.htmlCode += '\\n'\n",
        "        return self.htmlCode\n",
        "\n",
        "\n",
        "html = HTML()\n",
        "with html.body():\n",
        "    with html.div():\n",
        "        with html.div():\n",
        "            html.p('Первая строка.')\n",
        "            html.p('Вторая строка.')\n",
        "        with html.div():\n",
        "            html.p('Третья строка.')\n",
        "print(html.get_code())"
      ],
      "metadata": {
        "colab": {
          "base_uri": "https://localhost:8080/"
        },
        "id": "jYOGSjomw_qR",
        "outputId": "2b4d2d12-3486-4cde-91b9-f9f3628d230d"
      },
      "execution_count": null,
      "outputs": [
        {
          "output_type": "stream",
          "name": "stdout",
          "text": [
            "<body>\n",
            "<div>\n",
            "<div>\n",
            "<p>Первая строка.</p>\n",
            "<p>Вторая строка.</p>\n",
            "</div>\n",
            "<div>\n",
            "<p>Третья строка.</p>\n",
            "</div>\n",
            "</div>\n",
            "</body>\n",
            "\n"
          ]
        }
      ]
    },
    {
      "cell_type": "markdown",
      "source": [
        "Задача 8\n",
        "\n",
        "Визуализатор AGI-графики из старых компьютерных игр комании Sierra.\n",
        "\n",
        "В старых играх от Sierra (например, в King's Quest 1984 года) фоновая графика была представлена в виде последовательности команд. В целом, результат очень напоминал векторную графику. В оригинале использовалось разрешение 160x200 пикселей, но можно попробовать перерисовать картинки из King's Quest в высоком разрешении.\n",
        "\n",
        "Реализуйте разбор команд из граф. файлов в каталоге data/pic.*.\n",
        "Нарисуйте средствами tkinter результат в высоком разрешении без заливки экрана. Учитывайте, что игре используется 2 типа экранов: обычный и экран приоритетов."
      ],
      "metadata": {
        "id": "EPJS7XtU2OWF"
      }
    },
    {
      "cell_type": "code",
      "source": [
        "from pathlib import Path\n",
        "import tkinter as tk\n",
        "\n",
        "SCALE_X = 12\n",
        "SCALE_Y = 6\n",
        "\n",
        "COLORS = [\n",
        "    (0, 0, 0),\n",
        "    (0, 0, 168),\n",
        "    (0, 168, 0),\n",
        "    (0, 168, 168),\n",
        "    (168, 0, 0),\n",
        "    (168, 0, 168),\n",
        "    (168, 84, 0),\n",
        "    (168, 168, 168),\n",
        "    (84, 84, 84),\n",
        "    (84, 84, 252),\n",
        "    (84, 252, 84),\n",
        "    (84, 252, 252),\n",
        "    (252, 84, 84),\n",
        "    (252, 84, 252),\n",
        "    (252, 252, 84),\n",
        "    (252, 252, 252)\n",
        "]\n",
        "\n",
        "\n",
        "def draw_line(coords, color_index):\n",
        "    canvas.create_line(*[(x * SCALE_X, y * SCALE_Y) for x, y in coords],\n",
        "                       fill='#%02x%02x%02x' % COLORS[color_index], width=4)\n",
        "\n",
        "\n",
        "def draw(pic):\n",
        "    color = 0\n",
        "    drawRQ = True\n",
        "    for i in range(0, len(pic)):\n",
        "        if pic[i] == 240:\n",
        "            color = pic[i + 1]\n",
        "            drawRQ = True\n",
        "        if pic[i] == 241:\n",
        "            drawRQ = False\n",
        "        if pic[i] == 242:\n",
        "            pass\n",
        "        if pic[i] == 243:\n",
        "            pass\n",
        "        if pic[i] == 244:\n",
        "            if drawRQ:\n",
        "                count = 0\n",
        "                cords = [(pic[i + 1], pic[i + 2])]\n",
        "                lastX = pic[i + 1]\n",
        "                lastY = pic[i + 2]\n",
        "                j = i + 3\n",
        "                while (pic[j] < 240):\n",
        "                    if count % 2 == 0:\n",
        "                        lastY = pic[j]\n",
        "                    else:\n",
        "                        lastX = pic[j]\n",
        "                    count = count + 1;\n",
        "                    j = j + 1\n",
        "                    cords.append((lastX, lastY))\n",
        "                    draw_line(cords, color)\n",
        "                    cords = [(lastX, lastY)]\n",
        "        if pic[i] == 245:\n",
        "            if drawRQ:\n",
        "                count = 0\n",
        "                cords = [(pic[i + 1], pic[i + 2])]\n",
        "                lastX = pic[i + 1]\n",
        "                lastY = pic[i + 2]\n",
        "                j = i + 3\n",
        "                while pic[j] < 240:\n",
        "                    if count % 2 != 0:\n",
        "                        lastY = pic[j]\n",
        "                    else:\n",
        "                        lastX = pic[j]\n",
        "                    count = count + 1;\n",
        "                    j = j + 1\n",
        "                    cords.append((lastX, lastY))\n",
        "                    draw_line(cords, color)\n",
        "                    cords = [(lastX, lastY)]\n",
        "        if pic[i] == 246:\n",
        "            if drawRQ:\n",
        "                cords1 = []\n",
        "                x = pic[i + 1]\n",
        "                y = pic[i + 2]\n",
        "                cords1.append((x, y))\n",
        "                j = i + 3\n",
        "                while pic[j] < 240:\n",
        "                    cords1.append((pic[j], pic[j + 1]))\n",
        "                    cords2 = [(pic[j], pic[j + 1])]\n",
        "                    j = j + 2;\n",
        "                    draw_line(cords1, color)\n",
        "                    cords1 = cords2\n",
        "        if pic[i] == 247:\n",
        "            if drawRQ:\n",
        "                i = relative_line(pic, i, color)\n",
        "            pass\n",
        "        if pic[i] == 248:\n",
        "            pass\n",
        "\n",
        "\n",
        "def relative_line(picArr, index, color):\n",
        "    index += 1\n",
        "    x1 = picArr[index]\n",
        "    index += 1\n",
        "    y1 = picArr[index]\n",
        "    index += 1\n",
        "    while True:\n",
        "        disp = picArr[index]\n",
        "        index += 1\n",
        "        if disp >= 240:\n",
        "            break\n",
        "        dx = ((disp & 240) >> 4) & 15\n",
        "        dy = disp & 15\n",
        "        if dx & 8:\n",
        "            dx = (-1) * (dx & 7)\n",
        "        if dy & 8:\n",
        "            dy = (-1) * (dy & 7)\n",
        "        draw_line([(x1, y1), (x1 + dx, y1 + dy)], color)\n",
        "        x1 += dx\n",
        "        y1 += dy\n",
        "    return index - 1\n",
        "\n",
        "\n",
        "pic = Path('PIC.44').read_bytes()\n",
        "canvas = tk.Canvas(width=160 * SCALE_X, height=170 * SCALE_Y)\n",
        "canvas.pack()\n",
        "draw(pic)\n",
        "tk.mainloop()\n"
      ],
      "metadata": {
        "id": "07huhtKV0J9X"
      },
      "execution_count": null,
      "outputs": []
    }
  ]
}
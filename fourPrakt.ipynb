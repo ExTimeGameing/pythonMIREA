{
  "nbformat": 4,
  "nbformat_minor": 0,
  "metadata": {
    "colab": {
      "name": "fourPrakt.ipynb",
      "provenance": [],
      "collapsed_sections": [],
      "authorship_tag": "ABX9TyO8uIm9Pfq4Q0VM1gF0Crr4",
      "include_colab_link": true
    },
    "kernelspec": {
      "name": "python3",
      "display_name": "Python 3"
    },
    "language_info": {
      "name": "python"
    }
  },
  "cells": [
    {
      "cell_type": "markdown",
      "metadata": {
        "id": "view-in-github",
        "colab_type": "text"
      },
      "source": [
        "<a href=\"https://colab.research.google.com/github/ExTimeGameing/pythonMIREA/blob/main/fourPrakt.ipynb\" target=\"_parent\"><img src=\"https://colab.research.google.com/assets/colab-badge.svg\" alt=\"Open In Colab\"/></a>"
      ]
    },
    {
      "cell_type": "code",
      "execution_count": null,
      "metadata": {
        "colab": {
          "base_uri": "https://localhost:8080/"
        },
        "id": "H8QuEysktz_9",
        "outputId": "1d536e0d-92c4-4161-c6bd-a2b6e3e0e4ec"
      },
      "outputs": [
        {
          "output_type": "stream",
          "name": "stdout",
          "text": [
            "{'__module__': '__main__', 'x': 5, 'y': 6, 'sum': <function Cat.sum at 0x7f79ce637680>, '__dict__': <attribute '__dict__' of 'Cat' objects>, '__weakref__': <attribute '__weakref__' of 'Cat' objects>, '__doc__': None}\n",
            "5\n"
          ]
        }
      ],
      "source": [
        "#Задача № 2\n",
        "class Cat:\n",
        "    x = 5\n",
        "    y = 6\n",
        "\n",
        "    def sum(a, b):\n",
        "        print(a+b)\n",
        "\n",
        "\n",
        "print(vars(Cat))\n",
        "method = getattr(Cat, 'sum')\n",
        "method(2, 3)\n"
      ]
    },
    {
      "cell_type": "code",
      "source": [
        "#Задча №5\n",
        "code = []\n",
        "class printBody:\n",
        "    def __enter__(self):\n",
        "        code.append('<body>')\n",
        "\n",
        "    def __exit__(self, exc_type, exc_val, exc_tb):\n",
        "        code.append('</body>')\n",
        "\n",
        "\n",
        "class printDiv:\n",
        "    def __enter__(self):\n",
        "        code.append('<div>')\n",
        "\n",
        "    def __exit__(self, exc_type, exc_val, exc_tb):\n",
        "        code.append('</div>')\n",
        "\n",
        "\n",
        "class printP:\n",
        "    def __init__(self, str):\n",
        "        code.append('<p>' + str + '</p>')\n",
        "\n",
        "\n",
        "class HTML:\n",
        "    htmlCode = ''\n",
        "\n",
        "    def body(self):\n",
        "        return printBody()\n",
        "\n",
        "\n",
        "    def div(self):\n",
        "        return printDiv()\n",
        "\n",
        "\n",
        "    def p(self, str):\n",
        "        return printP(str)\n",
        "\n",
        "    def get_code(self):\n",
        "        for item in code:\n",
        "            self.htmlCode += item\n",
        "            self.htmlCode += '\\n'\n",
        "        return self.htmlCode\n",
        "\n",
        "\n",
        "html = HTML()\n",
        "with html.body():\n",
        "    with html.div():\n",
        "        with html.div():\n",
        "            html.p('Первая строка.')\n",
        "            html.p('Вторая строка.')\n",
        "        with html.div():\n",
        "            html.p('Третья строка.')\n",
        "print(html.get_code())"
      ],
      "metadata": {
        "colab": {
          "base_uri": "https://localhost:8080/"
        },
        "id": "jYOGSjomw_qR",
        "outputId": "2b4d2d12-3486-4cde-91b9-f9f3628d230d"
      },
      "execution_count": null,
      "outputs": [
        {
          "output_type": "stream",
          "name": "stdout",
          "text": [
            "<body>\n",
            "<div>\n",
            "<div>\n",
            "<p>Первая строка.</p>\n",
            "<p>Вторая строка.</p>\n",
            "</div>\n",
            "<div>\n",
            "<p>Третья строка.</p>\n",
            "</div>\n",
            "</div>\n",
            "</body>\n",
            "\n"
          ]
        }
      ]
    },
    {
      "cell_type": "code",
      "source": [
        ""
      ],
      "metadata": {
        "id": "07huhtKV0J9X"
      },
      "execution_count": null,
      "outputs": []
    },
    {
      "cell_type": "code",
      "source": [
        ""
      ],
      "metadata": {
        "id": "WMyYFMVBwDrL"
      },
      "execution_count": null,
      "outputs": []
    }
  ]
}